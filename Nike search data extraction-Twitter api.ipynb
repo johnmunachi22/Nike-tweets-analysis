{
 "cells": [
  {
   "cell_type": "code",
   "execution_count": 1,
   "metadata": {},
   "outputs": [],
   "source": [
    "## Imports\n",
    "import tweepy\n",
    "import pandas as pd"
   ]
  },
  {
   "cell_type": "code",
   "execution_count": 2,
   "metadata": {},
   "outputs": [],
   "source": [
    "## keys\n",
    "consumer_key = '##########'\n",
    "consumer_secret = '##########'\n",
    "access_token = '##########'\n",
    "access_token_secret = '##########'"
   ]
  },
  {
   "cell_type": "code",
   "execution_count": 3,
   "metadata": {},
   "outputs": [],
   "source": [
    "## auth\n",
    "auth = tweepy.OAuthHandler(consumer_key, consumer_secret)\n",
    "auth.set_access_token(access_token, access_token_secret)\n",
    "\n",
    "api = tweepy.API(auth)"
   ]
  },
  {
   "cell_type": "code",
   "execution_count": 4,
   "metadata": {},
   "outputs": [],
   "source": [
    "## features \n",
    "number_of_tweets = 1000 \n",
    "user_country = []\n",
    "user_name = []\n",
    "user_screen_name = []\n",
    "user_follower_count = []\n",
    "user_location = []\n",
    "user_friends_count = []\n",
    "tweet = []\n",
    "tweet_likes = []\n",
    "created_at = []\n",
    "retweet_count = []\n"
   ]
  },
  {
   "cell_type": "code",
   "execution_count": 5,
   "metadata": {},
   "outputs": [],
   "source": [
    "## collecting the features\n",
    "for i in tweepy.Cursor(api.search, q='Nike', tweet_mode='extended').items(number_of_tweets):\n",
    "    user_country.append(i.user.location)\n",
    "    user_name.append(i.user.name)\n",
    "    user_screen_name.append(i.user.screen_name)\n",
    "    user_follower_count.append(i.user.followers_count)\n",
    "    user_location.append(i.user.location)\n",
    "    user_friends_count.append(i.user.friends_count)\n",
    "    tweet.append(i.full_text)\n",
    "    tweet_likes.append(i.favorite_count)\n",
    "    created_at.append(i.created_at)\n",
    "    retweet_count.append(i.retweet_count)\n"
   ]
  },
  {
   "cell_type": "code",
   "execution_count": 6,
   "metadata": {},
   "outputs": [],
   "source": [
    "data = {'created_at':created_at,\n",
    "                   'user_name':user_name, \n",
    "                   'user_screen_name':user_screen_name,\n",
    "                   'user_followers_count':user_follower_count,\n",
    "                   'user_friends_count':user_friends_count,\n",
    "                   'user_location':user_location,\n",
    "                   'tweet':tweet,'tweet_likes': tweet_likes, \n",
    "                   'retweet_count':retweet_count}"
   ]
  },
  {
   "cell_type": "code",
   "execution_count": 7,
   "metadata": {},
   "outputs": [],
   "source": [
    "## converting to dataframe\n",
    "df = pd.DataFrame.from_dict(data, orient='index')\n",
    "df = df.transpose()"
   ]
  },
  {
   "cell_type": "code",
   "execution_count": 9,
   "metadata": {},
   "outputs": [],
   "source": [
    "## saving tweets\n",
    "df.to_csv('Nike_tweets_1.csv')\n",
    "df.to_csv('Nike_tweets_2.csv')\n",
    "df.to_csv('Nike_tweets_3.csv')\n",
    "df.to_csv('Nike_tweets_4.csv')"
   ]
  }
 ],
 "metadata": {
  "kernelspec": {
   "display_name": "Python 3",
   "language": "python",
   "name": "python3"
  },
  "language_info": {
   "codemirror_mode": {
    "name": "ipython",
    "version": 3
   },
   "file_extension": ".py",
   "mimetype": "text/x-python",
   "name": "python",
   "nbconvert_exporter": "python",
   "pygments_lexer": "ipython3",
   "version": "3.8.5"
  }
 },
 "nbformat": 4,
 "nbformat_minor": 4
}
